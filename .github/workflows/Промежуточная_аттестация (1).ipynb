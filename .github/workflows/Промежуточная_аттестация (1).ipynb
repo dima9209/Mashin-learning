{
  "cells": [
    {
      "cell_type": "markdown",
      "metadata": {
        "id": "FgiTs7Y0ZMbi"
      },
      "source": [
        "# 1. Загрузим исходный данные в базу данных SQLite"
      ]
    },
    {
      "cell_type": "code",
      "execution_count": null,
      "metadata": {
        "id": "zj9Cnn-P3Nsi"
      },
      "outputs": [],
      "source": [
        "# Импортируем библиотеки\n",
        "import csv\n",
        "import sqlite3 as sql"
      ]
    },
    {
      "cell_type": "code",
      "execution_count": null,
      "metadata": {
        "id": "ic9w8jqN8NUe"
      },
      "outputs": [],
      "source": [
        "# Создаем базу данных bascet.db и создаем с ней соединение\n",
        "conn= sql.connect(\"bascet.db\")"
      ]
    },
    {
      "cell_type": "code",
      "execution_count": null,
      "metadata": {
        "colab": {
          "base_uri": "https://localhost:8080/"
        },
        "id": "N3Z74B2i9_eM",
        "outputId": "de5c6a7d-7ea3-4794-b31e-d6ea8b5828d6"
      },
      "outputs": [
        {
          "output_type": "execute_result",
          "data": {
            "text/plain": [
              "<sqlite3.Cursor at 0x7f92bafa1040>"
            ]
          },
          "metadata": {},
          "execution_count": 3
        }
      ],
      "source": [
        "# В базе данных создаем\n",
        "conn.execute('''\n",
        "CREATE TABLE sessons (\n",
        "    player_name         TEXT,\n",
        "    team_abbreviation   TEXT,\n",
        "    age                 INTEGER,\n",
        "    player_height       TEXT,\n",
        "    player_weight       TEXT,\n",
        "    college             TEXT,\n",
        "    country             TEXT,\n",
        "    draft_year          INTEGER,\n",
        "    draft_round         INTEGER,\n",
        "    draft_number        INTEGER,\n",
        "    gp                  INTEGER,\n",
        "    pts                 TEXT,\n",
        "    reb                 TEXT,\n",
        "    ast                 TEXT,\n",
        "    net_rating          TEXT,\n",
        "    oreb_pct            TEXT,\n",
        "    dreb_pct            TEXT,\n",
        "    usg_pct             TEXT,\n",
        "    ts_pct              TEXT,\n",
        "    ast_pct             TEXT,\n",
        "    season              TEXT\n",
        ")''')"
      ]
    },
    {
      "cell_type": "code",
      "execution_count": null,
      "metadata": {
        "id": "IMtxdO7PNetD"
      },
      "outputs": [],
      "source": [
        "with open('/content/drive/MyDrive/dataset.csv', encoding= 'utf-8') as file:\n",
        "  df= csv.reader(file)\n",
        "  for row in list(df)[1:]:\n",
        "    row = [i if i not in ('None', 'Undrafted') else None for i in row]\n",
        "    conn.execute(\"INSERT INTO sessons VALUES(?, ?, ?, ?, ?, ?, ?, ?, ?, ?, ?, ?, ?, ?, ?, ?, ?, ?, ?, ?, ?)\", row[1:])"
      ]
    },
    {
      "cell_type": "markdown",
      "metadata": {
        "id": "XNdv59qjcsi6"
      },
      "source": [
        "# 2.Подготовка данных для построния моделей"
      ]
    },
    {
      "cell_type": "code",
      "execution_count": null,
      "metadata": {
        "id": "ZN4eq9h2Tppl"
      },
      "outputs": [],
      "source": [
        "# Импортируем необходимые библиотеки\n",
        "import numpy as np\n",
        "import pandas as pd\n",
        "import matplotlib.pyplot as plt"
      ]
    },
    {
      "cell_type": "code",
      "execution_count": null,
      "metadata": {
        "id": "aJhlsg-soalZ"
      },
      "outputs": [],
      "source": [
        "# Из базы данных, sql запросом, вытаскиваем необходимые для дальнейшего анализа столбцы, группируем данные по имени игрока, тем самым убираем задвои игроков.\n",
        "df = pd.read_sql('''SELECT player_name,\n",
        "                          player_height,\n",
        "                          player_weight\n",
        "                          FROM sessons''', conn)"
      ]
    },
    {
      "cell_type": "code",
      "execution_count": null,
      "metadata": {
        "id": "KDEn1zf1qwTf"
      },
      "outputs": [],
      "source": [
        "# Меняем тип полей на float64\n",
        "df = df.astype({'player_height': np.float64, 'player_weight': np.float64 })"
      ]
    },
    {
      "cell_type": "code",
      "execution_count": null,
      "metadata": {
        "id": "glCt7NRhpZCA"
      },
      "outputs": [],
      "source": [
        "df= df.groupby('player_name').mean()"
      ]
    },
    {
      "cell_type": "code",
      "execution_count": null,
      "metadata": {
        "colab": {
          "base_uri": "https://localhost:8080/",
          "height": 300
        },
        "id": "wIdwmaspwmEJ",
        "outputId": "ebebbedd-c23b-466e-92cc-f8ede1e24f31"
      },
      "outputs": [
        {
          "output_type": "execute_result",
          "data": {
            "text/plain": [
              "       player_height  player_weight\n",
              "count    2463.000000    2463.000000\n",
              "mean      200.163490      99.409815\n",
              "std         9.082196      12.375046\n",
              "min       160.020000      60.327736\n",
              "25%       193.040000      90.718400\n",
              "50%       200.660000      98.883056\n",
              "75%       207.010000     108.689283\n",
              "max       231.140000     163.293120"
            ],
            "text/html": [
              "\n",
              "  <div id=\"df-6ae9f7f6-9910-439b-bbc0-96c3ec5d512a\">\n",
              "    <div class=\"colab-df-container\">\n",
              "      <div>\n",
              "<style scoped>\n",
              "    .dataframe tbody tr th:only-of-type {\n",
              "        vertical-align: middle;\n",
              "    }\n",
              "\n",
              "    .dataframe tbody tr th {\n",
              "        vertical-align: top;\n",
              "    }\n",
              "\n",
              "    .dataframe thead th {\n",
              "        text-align: right;\n",
              "    }\n",
              "</style>\n",
              "<table border=\"1\" class=\"dataframe\">\n",
              "  <thead>\n",
              "    <tr style=\"text-align: right;\">\n",
              "      <th></th>\n",
              "      <th>player_height</th>\n",
              "      <th>player_weight</th>\n",
              "    </tr>\n",
              "  </thead>\n",
              "  <tbody>\n",
              "    <tr>\n",
              "      <th>count</th>\n",
              "      <td>2463.000000</td>\n",
              "      <td>2463.000000</td>\n",
              "    </tr>\n",
              "    <tr>\n",
              "      <th>mean</th>\n",
              "      <td>200.163490</td>\n",
              "      <td>99.409815</td>\n",
              "    </tr>\n",
              "    <tr>\n",
              "      <th>std</th>\n",
              "      <td>9.082196</td>\n",
              "      <td>12.375046</td>\n",
              "    </tr>\n",
              "    <tr>\n",
              "      <th>min</th>\n",
              "      <td>160.020000</td>\n",
              "      <td>60.327736</td>\n",
              "    </tr>\n",
              "    <tr>\n",
              "      <th>25%</th>\n",
              "      <td>193.040000</td>\n",
              "      <td>90.718400</td>\n",
              "    </tr>\n",
              "    <tr>\n",
              "      <th>50%</th>\n",
              "      <td>200.660000</td>\n",
              "      <td>98.883056</td>\n",
              "    </tr>\n",
              "    <tr>\n",
              "      <th>75%</th>\n",
              "      <td>207.010000</td>\n",
              "      <td>108.689283</td>\n",
              "    </tr>\n",
              "    <tr>\n",
              "      <th>max</th>\n",
              "      <td>231.140000</td>\n",
              "      <td>163.293120</td>\n",
              "    </tr>\n",
              "  </tbody>\n",
              "</table>\n",
              "</div>\n",
              "      <button class=\"colab-df-convert\" onclick=\"convertToInteractive('df-6ae9f7f6-9910-439b-bbc0-96c3ec5d512a')\"\n",
              "              title=\"Convert this dataframe to an interactive table.\"\n",
              "              style=\"display:none;\">\n",
              "        \n",
              "  <svg xmlns=\"http://www.w3.org/2000/svg\" height=\"24px\"viewBox=\"0 0 24 24\"\n",
              "       width=\"24px\">\n",
              "    <path d=\"M0 0h24v24H0V0z\" fill=\"none\"/>\n",
              "    <path d=\"M18.56 5.44l.94 2.06.94-2.06 2.06-.94-2.06-.94-.94-2.06-.94 2.06-2.06.94zm-11 1L8.5 8.5l.94-2.06 2.06-.94-2.06-.94L8.5 2.5l-.94 2.06-2.06.94zm10 10l.94 2.06.94-2.06 2.06-.94-2.06-.94-.94-2.06-.94 2.06-2.06.94z\"/><path d=\"M17.41 7.96l-1.37-1.37c-.4-.4-.92-.59-1.43-.59-.52 0-1.04.2-1.43.59L10.3 9.45l-7.72 7.72c-.78.78-.78 2.05 0 2.83L4 21.41c.39.39.9.59 1.41.59.51 0 1.02-.2 1.41-.59l7.78-7.78 2.81-2.81c.8-.78.8-2.07 0-2.86zM5.41 20L4 18.59l7.72-7.72 1.47 1.35L5.41 20z\"/>\n",
              "  </svg>\n",
              "      </button>\n",
              "      \n",
              "  <style>\n",
              "    .colab-df-container {\n",
              "      display:flex;\n",
              "      flex-wrap:wrap;\n",
              "      gap: 12px;\n",
              "    }\n",
              "\n",
              "    .colab-df-convert {\n",
              "      background-color: #E8F0FE;\n",
              "      border: none;\n",
              "      border-radius: 50%;\n",
              "      cursor: pointer;\n",
              "      display: none;\n",
              "      fill: #1967D2;\n",
              "      height: 32px;\n",
              "      padding: 0 0 0 0;\n",
              "      width: 32px;\n",
              "    }\n",
              "\n",
              "    .colab-df-convert:hover {\n",
              "      background-color: #E2EBFA;\n",
              "      box-shadow: 0px 1px 2px rgba(60, 64, 67, 0.3), 0px 1px 3px 1px rgba(60, 64, 67, 0.15);\n",
              "      fill: #174EA6;\n",
              "    }\n",
              "\n",
              "    [theme=dark] .colab-df-convert {\n",
              "      background-color: #3B4455;\n",
              "      fill: #D2E3FC;\n",
              "    }\n",
              "\n",
              "    [theme=dark] .colab-df-convert:hover {\n",
              "      background-color: #434B5C;\n",
              "      box-shadow: 0px 1px 3px 1px rgba(0, 0, 0, 0.15);\n",
              "      filter: drop-shadow(0px 1px 2px rgba(0, 0, 0, 0.3));\n",
              "      fill: #FFFFFF;\n",
              "    }\n",
              "  </style>\n",
              "\n",
              "      <script>\n",
              "        const buttonEl =\n",
              "          document.querySelector('#df-6ae9f7f6-9910-439b-bbc0-96c3ec5d512a button.colab-df-convert');\n",
              "        buttonEl.style.display =\n",
              "          google.colab.kernel.accessAllowed ? 'block' : 'none';\n",
              "\n",
              "        async function convertToInteractive(key) {\n",
              "          const element = document.querySelector('#df-6ae9f7f6-9910-439b-bbc0-96c3ec5d512a');\n",
              "          const dataTable =\n",
              "            await google.colab.kernel.invokeFunction('convertToInteractive',\n",
              "                                                     [key], {});\n",
              "          if (!dataTable) return;\n",
              "\n",
              "          const docLinkHtml = 'Like what you see? Visit the ' +\n",
              "            '<a target=\"_blank\" href=https://colab.research.google.com/notebooks/data_table.ipynb>data table notebook</a>'\n",
              "            + ' to learn more about interactive tables.';\n",
              "          element.innerHTML = '';\n",
              "          dataTable['output_type'] = 'display_data';\n",
              "          await google.colab.output.renderOutput(dataTable, element);\n",
              "          const docLink = document.createElement('div');\n",
              "          docLink.innerHTML = docLinkHtml;\n",
              "          element.appendChild(docLink);\n",
              "        }\n",
              "      </script>\n",
              "    </div>\n",
              "  </div>\n",
              "  "
            ]
          },
          "metadata": {},
          "execution_count": 9
        }
      ],
      "source": [
        "df.describe()"
      ]
    },
    {
      "cell_type": "code",
      "execution_count": null,
      "metadata": {
        "id": "Q9chdhu2zJpb"
      },
      "outputs": [],
      "source": [
        "# Разделяем выборку на x,y\n",
        "Y= df['player_height']\n",
        "X= df['player_weight']"
      ]
    },
    {
      "cell_type": "code",
      "execution_count": null,
      "metadata": {
        "colab": {
          "base_uri": "https://localhost:8080/",
          "height": 489
        },
        "id": "S494Et9DetN2",
        "outputId": "ccd287e0-158b-411d-f748-0e2074248640"
      },
      "outputs": [
        {
          "output_type": "execute_result",
          "data": {
            "text/plain": [
              "Text(0.5, 1.0, ' График взаимозависимости роста и веса спортсмена')"
            ]
          },
          "metadata": {},
          "execution_count": 11
        },
        {
          "output_type": "display_data",
          "data": {
            "text/plain": [
              "<Figure size 640x480 with 1 Axes>"
            ],
            "image/png": "[encoded data removed]"
          },
          "metadata": {}
        }
      ],
      "source": [
        "plt.scatter(X,Y)\n",
        "plt.ylabel(\"Рост спортсмена\")\n",
        "plt.xlabel(\"Вес спортсмена\")\n",
        "plt.title(\" График взаимозависимости роста и веса спортсмена\")"
      ]
    },
    {
      "cell_type": "markdown",
      "metadata": {
        "id": "TmhrqfDZdGT4"
      },
      "source": [
        "#Построение модели линейной регрессии"
      ]
    },
    {
      "cell_type": "code",
      "execution_count": null,
      "metadata": {
        "id": "8VGMu6VZ2sbs"
      },
      "outputs": [],
      "source": [
        "# Импорт необходимых функций из библиотеки sklearn\n",
        "from sklearn.linear_model import LinearRegression\n",
        "from sklearn.model_selection import train_test_split"
      ]
    },
    {
      "cell_type": "code",
      "execution_count": null,
      "metadata": {
        "id": "dwo6dViY3Y-k"
      },
      "outputs": [],
      "source": [
        "# Разделения массива данных на треенировочную и тестовую.\n",
        "x_train, x_test, y_train, y_test = train_test_split(X, Y, test_size=0.25, random_state=160)"
      ]
    },
    {
      "cell_type": "code",
      "execution_count": null,
      "metadata": {
        "colab": {
          "base_uri": "https://localhost:8080/"
        },
        "id": "AK3SPnN43zZl",
        "outputId": "8a1d0c8e-93c5-4100-d44a-326cb46cba8e"
      },
      "outputs": [
        {
          "output_type": "stream",
          "name": "stderr",
          "text": [
            "<ipython-input-14-156b02256ff0>:2: FutureWarning: Support for multi-dimensional indexing (e.g. `obj[:, None]`) is deprecated and will be removed in a future version.  Convert to a numpy array before indexing instead.\n",
            "  x_train, x_test = x_train[:, np.newaxis], x_test[:, np.newaxis]\n"
          ]
        }
      ],
      "source": [
        "# Так как для построения модели требуется 2- х мерный массив добавляем к x_train, x_test еще один столбец состоящий из Nan\n",
        "x_train, x_test = x_train[:, np.newaxis], x_test[:, np.newaxis]"
      ]
    },
    {
      "cell_type": "code",
      "execution_count": null,
      "metadata": {
        "colab": {
          "base_uri": "https://localhost:8080/",
          "height": 75
        },
        "id": "IdHXr3de5BHh",
        "outputId": "8ef8152d-f530-4851-ce1a-7ee4577b6245"
      },
      "outputs": [
        {
          "output_type": "execute_result",
          "data": {
            "text/plain": [
              "LinearRegression()"
            ],
            "text/html": [
              "<style>#sk-container-id-1 {color: black;background-color: white;}#sk-container-id-1 pre{padding: 0;}#sk-container-id-1 div.sk-toggleable {background-color: white;}#sk-container-id-1 label.sk-toggleable__label {cursor: pointer;display: block;width: 100%;margin-bottom: 0;padding: 0.3em;box-sizing: border-box;text-align: center;}#sk-container-id-1 label.sk-toggleable__label-arrow:before {content: \"▸\";float: left;margin-right: 0.25em;color: #696969;}#sk-container-id-1 label.sk-toggleable__label-arrow:hover:before {color: black;}#sk-container-id-1 div.sk-estimator:hover label.sk-toggleable__label-arrow:before {color: black;}#sk-container-id-1 div.sk-toggleable__content {max-height: 0;max-width: 0;overflow: hidden;text-align: left;background-color: #f0f8ff;}#sk-container-id-1 div.sk-toggleable__content pre {margin: 0.2em;color: black;border-radius: 0.25em;background-color: #f0f8ff;}#sk-container-id-1 input.sk-toggleable__control:checked~div.sk-toggleable__content {max-height: 200px;max-width: 100%;overflow: auto;}#sk-container-id-1 input.sk-toggleable__control:checked~label.sk-toggleable__label-arrow:before {content: \"▾\";}#sk-container-id-1 div.sk-estimator input.sk-toggleable__control:checked~label.sk-toggleable__label {background-color: #d4ebff;}#sk-container-id-1 div.sk-label input.sk-toggleable__control:checked~label.sk-toggleable__label {background-color: #d4ebff;}#sk-container-id-1 input.sk-hidden--visually {border: 0;clip: rect(1px 1px 1px 1px);clip: rect(1px, 1px, 1px, 1px);height: 1px;margin: -1px;overflow: hidden;padding: 0;position: absolute;width: 1px;}#sk-container-id-1 div.sk-estimator {font-family: monospace;background-color: #f0f8ff;border: 1px dotted black;border-radius: 0.25em;box-sizing: border-box;margin-bottom: 0.5em;}#sk-container-id-1 div.sk-estimator:hover {background-color: #d4ebff;}#sk-container-id-1 div.sk-parallel-item::after {content: \"\";width: 100%;border-bottom: 1px solid gray;flex-grow: 1;}#sk-container-id-1 div.sk-label:hover label.sk-toggleable__label {background-color: #d4ebff;}#sk-container-id-1 div.sk-serial::before {content: \"\";position: absolute;border-left: 1px solid gray;box-sizing: border-box;top: 0;bottom: 0;left: 50%;z-index: 0;}#sk-container-id-1 div.sk-serial {display: flex;flex-direction: column;align-items: center;background-color: white;padding-right: 0.2em;padding-left: 0.2em;position: relative;}#sk-container-id-1 div.sk-item {position: relative;z-index: 1;}#sk-container-id-1 div.sk-parallel {display: flex;align-items: stretch;justify-content: center;background-color: white;position: relative;}#sk-container-id-1 div.sk-item::before, #sk-container-id-1 div.sk-parallel-item::before {content: \"\";position: absolute;border-left: 1px solid gray;box-sizing: border-box;top: 0;bottom: 0;left: 50%;z-index: -1;}#sk-container-id-1 div.sk-parallel-item {display: flex;flex-direction: column;z-index: 1;position: relative;background-color: white;}#sk-container-id-1 div.sk-parallel-item:first-child::after {align-self: flex-end;width: 50%;}#sk-container-id-1 div.sk-parallel-item:last-child::after {align-self: flex-start;width: 50%;}#sk-container-id-1 div.sk-parallel-item:only-child::after {width: 0;}#sk-container-id-1 div.sk-dashed-wrapped {border: 1px dashed gray;margin: 0 0.4em 0.5em 0.4em;box-sizing: border-box;padding-bottom: 0.4em;background-color: white;}#sk-container-id-1 div.sk-label label {font-family: monospace;font-weight: bold;display: inline-block;line-height: 1.2em;}#sk-container-id-1 div.sk-label-container {text-align: center;}#sk-container-id-1 div.sk-container {/* jupyter's `normalize.less` sets `[hidden] { display: none; }` but bootstrap.min.css set `[hidden] { display: none !important; }` so we also need the `!important` here to be able to override the default hidden behavior on the sphinx rendered scikit-learn.org. See: https://github.com/scikit-learn/scikit-learn/issues/21755 */display: inline-block !important;position: relative;}#sk-container-id-1 div.sk-text-repr-fallback {display: none;}</style><div id=\"sk-container-id-1\" class=\"sk-top-container\"><div class=\"sk-text-repr-fallback\"><pre>LinearRegression()</pre><b>In a Jupyter environment, please rerun this cell to show the HTML representation or trust the notebook. <br />On GitHub, the HTML representation is unable to render, please try loading this page with nbviewer.org.</b></div><div class=\"sk-container\" hidden><div class=\"sk-item\"><div class=\"sk-estimator sk-toggleable\"><input class=\"sk-toggleable__control sk-hidden--visually\" id=\"sk-estimator-id-1\" type=\"checkbox\" checked><label for=\"sk-estimator-id-1\" class=\"sk-toggleable__label sk-toggleable__label-arrow\">LinearRegression</label><div class=\"sk-toggleable__content\"><pre>LinearRegression()</pre></div></div></div></div></div>"
            ]
          },
          "metadata": {},
          "execution_count": 15
        }
      ],
      "source": [
        "#Инициализируем и обучаем модель линейной регрессии\n",
        "linear_model = LinearRegression()\n",
        "linear_model.fit(x_train, y_train)"
      ]
    },
    {
      "cell_type": "code",
      "execution_count": null,
      "metadata": {
        "colab": {
          "base_uri": "https://localhost:8080/",
          "height": 466
        },
        "id": "0Q4Zwt1xtbbi",
        "outputId": "b7b1d52f-5911-4852-a516-9695b7b9680e"
      },
      "outputs": [
        {
          "output_type": "stream",
          "name": "stdout",
          "text": [
            "Точность линейной регрессии составила 71.0 %\n"
          ]
        },
        {
          "output_type": "display_data",
          "data": {
            "text/plain": [
              "<Figure size 640x480 with 1 Axes>"
            ],
            "image/png": "[encoded data removed]"
          },
          "metadata": {}
        }
      ],
      "source": [
        "# Визуализируем полученный результат  и выведем точность регрессии\n",
        "xfit = np.linspace(60, 160)\n",
        "yfit = linear_model.predict(xfit[:, np.newaxis])\n",
        "plt.plot(xfit, yfit, color= 'r')\n",
        "plt.plot(x_test, y_test, '*')\n",
        "plt.ylabel(\"Рост спортсмена\")\n",
        "plt.xlabel(\"Вес спортсмена\")\n",
        "print(f'Точность линейной регрессии составила {round(linear_model.score(x_test, y_test)*100, 0)} %')"
      ]
    },
    {
      "cell_type": "markdown",
      "metadata": {
        "id": "zx6pbybF_n8i"
      },
      "source": [
        "# Построим модель полимиальной регрессии"
      ]
    },
    {
      "cell_type": "code",
      "execution_count": null,
      "metadata": {
        "id": "_aaFyhUbtj_w"
      },
      "outputs": [],
      "source": [
        " # Импортируем необходимые библиотеки\n",
        " from sklearn.preprocessing import PolynomialFeatures"
      ]
    },
    {
      "cell_type": "code",
      "execution_count": null,
      "metadata": {
        "id": "8DpEkdeoBoTB"
      },
      "outputs": [],
      "source": [
        "# С помощью цикла переберем степени полинома от 1, 50 и выберем наилучший результата\n",
        "degree = [i for i in range(1,51)]\n",
        "model_train, model_test = [], []\n",
        "for d in degree:\n",
        "  poly_model = PolynomialFeatures(degree=d)\n",
        "  x_poly = poly_model.fit_transform(x_train)\n",
        "  lin_reg = LinearRegression()\n",
        "  lin_reg.fit(x_poly, y_train)\n",
        "  model_train.append(round(lin_reg.score(x_poly, y_train)*100,0))\n",
        "  model_test.append(round(lin_reg.score(poly_model.fit_transform(x_test), y_test)*100, 0))\n"
      ]
    },
    {
      "cell_type": "code",
      "execution_count": null,
      "metadata": {
        "colab": {
          "base_uri": "https://localhost:8080/",
          "height": 504
        },
        "id": "pQsHGwZNIgDq",
        "outputId": "fbeb2e83-f0af-47ae-c80a-d78d79f72693"
      },
      "outputs": [
        {
          "output_type": "execute_result",
          "data": {
            "text/plain": [
              "Text(0.5, 1.0, 'График зависимости точности полиномиальной модели от степени полинома')"
            ]
          },
          "metadata": {},
          "execution_count": 19
        },
        {
          "output_type": "display_data",
          "data": {
            "text/plain": [
              "<Figure size 1000x500 with 1 Axes>"
            ],
            "image/png": "[encoded data removed]"
          },
          "metadata": {}
        }
      ],
      "source": [
        "#Визуализируем полученный результат\n",
        "plt.figure(figsize=(10,5))\n",
        "plt.grid(True)\n",
        "plt.plot(degree, model_train, color='blue', label= 'Точность на тренировочных данных', linestyle='-.')\n",
        "plt.plot(degree, model_test, color='green', label= 'Точность на тестовых данных', linestyle='-')\n",
        "plt.axis([1, 20, 65, 75])\n",
        "plt.yticks([ i for i in range(65, 76)])\n",
        "plt.xticks([ i for i in range(1, 21)])\n",
        "plt.legend()\n",
        "plt.xlabel('Степень полинома')\n",
        "plt.ylabel('Точность полиномиальной модели')\n",
        "plt.title('График зависимости точности полиномиальной модели от степени полинома')"
      ]
    },
    {
      "cell_type": "markdown",
      "metadata": {
        "id": "tD3jq7wyUVfd"
      },
      "source": [
        "# Вывод лучшый параметр для полиномиальной функции является степень полинома 2."
      ]
    },
    {
      "cell_type": "code",
      "execution_count": null,
      "metadata": {
        "colab": {
          "base_uri": "https://localhost:8080/",
          "height": 489
        },
        "id": "LC3Y3YHVU7Ez",
        "outputId": "366994c5-1339-473a-8b08-ab4628ec6d9d"
      },
      "outputs": [
        {
          "output_type": "stream",
          "name": "stdout",
          "text": [
            "Точность полиномиальной  регрессии составила 73.0 %\n"
          ]
        },
        {
          "output_type": "display_data",
          "data": {
            "text/plain": [
              "<Figure size 640x480 with 1 Axes>"
            ],
            "image/png": "[encoded data removed]"
          },
          "metadata": {}
        }
      ],
      "source": [
        "# Обучем модель на лучших параметрах, выведем скоринг модели и визуализируем полученные результаты\n",
        "# Вызов модели и ее обучение\n",
        "p_model = PolynomialFeatures(degree=2)\n",
        "lin_p_model =LinearRegression()\n",
        "lin_p_model.fit(p_model.fit_transform(x_train), y_train)\n",
        "# Скоринг и визуализация\n",
        "xfit_poly = np.linspace(60, 160)\n",
        "yfit_poly = lin_p_model.predict(p_model.fit_transform(xfit_poly[:, np.newaxis]))\n",
        "plt.plot(xfit_poly, yfit_poly, color= 'green', label= \"Модель\")\n",
        "plt.plot(x_test, y_test, '*', label= \"Тестовые данные\", alpha= 0.2)\n",
        "plt.ylabel(\"Рост спортсмена\")\n",
        "plt.xlabel(\"Вес спортсмена\")\n",
        "plt.legend()\n",
        "plt. title('Визуализация построеной модели')\n",
        "print(f'Точность полиномиальной  регрессии составила {round(lin_p_model.score(p_model.fit_transform(x_test), y_test)*100, 0)} %')"
      ]
    },
    {
      "cell_type": "markdown",
      "metadata": {
        "id": "k87FRncBczyU"
      },
      "source": [
        "# Построим модель SVM"
      ]
    },
    {
      "cell_type": "code",
      "execution_count": null,
      "metadata": {
        "id": "YuwR5eNTZjpF"
      },
      "outputs": [],
      "source": [
        "#Импортируем необходимые библиотеки\n",
        "from sklearn.svm import SVR\n",
        "from sklearn.model_selection import GridSearchCV"
      ]
    },
    {
      "cell_type": "code",
      "execution_count": null,
      "metadata": {
        "id": "ax_35ZcubfW5"
      },
      "outputs": [],
      "source": [
        "# C помощью GridSearchCV подбираем лучшие параметры модели SVR\n",
        "parrams ={'kernel' : [\"linear\", \"rbf\", \"sigmoid\"], 'C': [1, 0.1, 0.5, 2,100], \"degree\":[1,2,3], \"gamma\":['scale', 'auto']}\n",
        "grid= GridSearchCV(SVR(), parrams, refit=True, verbose=4)\n",
        "grid.fit(x_train, y_train)\n",
        "print(f\"Лучшие параметры модели: {grid.best_params_}\")"
      ]
    },
    {
      "cell_type": "code",
      "source": [
        "#Инициализируем и обучаем модель SVR с лучшими параметрами\n",
        "model_svr= SVR(kernel='rbf', degree=1, gamma='scale', C=100)\n",
        "model_svr.fit(x_test, y_test)\n",
        "\n",
        "#Визуализация результата\n",
        "xfit_svr = np.linspace(60, 160)\n",
        "yfit_svr = model_svr.predict(xfit_poly[:, np.newaxis])\n",
        "plt.plot(xfit_svr, yfit_svr, color= 'black', label= \"Модель\")\n",
        "plt.plot(x_test, y_test, '*', label= \"Тестовые данные\", color='green', alpha= 0.3)\n",
        "plt.ylabel(\"Рост спортсмена\")\n",
        "plt.xlabel(\"Вес спортсмена\")\n",
        "plt.legend()\n",
        "plt. title('Визуализация построеной модели')\n",
        "print(f'Точность модели SVR составила {round(model_svr.score(x_test, y_test)*100, 0)} %')"
      ],
      "metadata": {
        "colab": {
          "base_uri": "https://localhost:8080/",
          "height": 489
        },
        "id": "IHYjUV0P6Rkk",
        "outputId": "f26bf09b-ebb4-4173-8068-b41908848594"
      },
      "execution_count": null,
      "outputs": [
        {
          "output_type": "stream",
          "name": "stdout",
          "text": [
            "Точность модели SVR составила 73.0 %\n"
          ]
        },
        {
          "output_type": "display_data",
          "data": {
            "text/plain": [
              "<Figure size 640x480 with 1 Axes>"
            ],
            "image/png": "[encoded data removed]"
          },
          "metadata": {}
        }
      ]
    },
    {
      "cell_type": "markdown",
      "source": [
        "#Подготовка данных для построения модели дерева решений"
      ],
      "metadata": {
        "id": "dmsYSOQTKwGE"
      }
    },
    {
      "cell_type": "code",
      "source": [
        "# Импортируем необходимые данные из ранее созданной sql-базы\n",
        "df2 =pd.read_sql(\"\"\"SELECT team_abbreviation, pts, reb, ast, player_height, player_weight FROM sessons WHERE season='2010-11'\"\"\", conn)"
      ],
      "metadata": {
        "id": "cb0qPth-9-al"
      },
      "execution_count": null,
      "outputs": []
    },
    {
      "cell_type": "code",
      "source": [
        "df2.head()"
      ],
      "metadata": {
        "colab": {
          "base_uri": "https://localhost:8080/",
          "height": 206
        },
        "id": "3jiwxZkF_oyO",
        "outputId": "edd727d8-0fcc-49a7-fa93-7fe374da47f8"
      },
      "execution_count": null,
      "outputs": [
        {
          "output_type": "execute_result",
          "data": {
            "text/plain": [
              "  team_abbreviation   pts  reb  ast player_height       player_weight\n",
              "0               DAL   2.3  1.4  1.1        195.58   97.52228000000001\n",
              "1               NYK  16.8  2.6  5.4         190.5            95.25432\n",
              "2               DEN   5.6  4.9  0.4        208.28          103.418976\n",
              "3               MIA  18.7  8.3  1.9        210.82  106.59411999999999\n",
              "4               MIL   7.3  2.0  1.1        200.66            95.25432"
            ],
            "text/html": [
              "\n",
              "  <div id=\"df-c8a6c716-3d78-46a0-8ac8-6b89ef3cefe0\">\n",
              "    <div class=\"colab-df-container\">\n",
              "      <div>\n",
              "<style scoped>\n",
              "    .dataframe tbody tr th:only-of-type {\n",
              "        vertical-align: middle;\n",
              "    }\n",
              "\n",
              "    .dataframe tbody tr th {\n",
              "        vertical-align: top;\n",
              "    }\n",
              "\n",
              "    .dataframe thead th {\n",
              "        text-align: right;\n",
              "    }\n",
              "</style>\n",
              "<table border=\"1\" class=\"dataframe\">\n",
              "  <thead>\n",
              "    <tr style=\"text-align: right;\">\n",
              "      <th></th>\n",
              "      <th>team_abbreviation</th>\n",
              "      <th>pts</th>\n",
              "      <th>reb</th>\n",
              "      <th>ast</th>\n",
              "      <th>player_height</th>\n",
              "      <th>player_weight</th>\n",
              "    </tr>\n",
              "  </thead>\n",
              "  <tbody>\n",
              "    <tr>\n",
              "      <th>0</th>\n",
              "      <td>DAL</td>\n",
              "      <td>2.3</td>\n",
              "      <td>1.4</td>\n",
              "      <td>1.1</td>\n",
              "      <td>195.58</td>\n",
              "      <td>97.52228000000001</td>\n",
              "    </tr>\n",
              "    <tr>\n",
              "      <th>1</th>\n",
              "      <td>NYK</td>\n",
              "      <td>16.8</td>\n",
              "      <td>2.6</td>\n",
              "      <td>5.4</td>\n",
              "      <td>190.5</td>\n",
              "      <td>95.25432</td>\n",
              "    </tr>\n",
              "    <tr>\n",
              "      <th>2</th>\n",
              "      <td>DEN</td>\n",
              "      <td>5.6</td>\n",
              "      <td>4.9</td>\n",
              "      <td>0.4</td>\n",
              "      <td>208.28</td>\n",
              "      <td>103.418976</td>\n",
              "    </tr>\n",
              "    <tr>\n",
              "      <th>3</th>\n",
              "      <td>MIA</td>\n",
              "      <td>18.7</td>\n",
              "      <td>8.3</td>\n",
              "      <td>1.9</td>\n",
              "      <td>210.82</td>\n",
              "      <td>106.59411999999999</td>\n",
              "    </tr>\n",
              "    <tr>\n",
              "      <th>4</th>\n",
              "      <td>MIL</td>\n",
              "      <td>7.3</td>\n",
              "      <td>2.0</td>\n",
              "      <td>1.1</td>\n",
              "      <td>200.66</td>\n",
              "      <td>95.25432</td>\n",
              "    </tr>\n",
              "  </tbody>\n",
              "</table>\n",
              "</div>\n",
              "      <button class=\"colab-df-convert\" onclick=\"convertToInteractive('df-c8a6c716-3d78-46a0-8ac8-6b89ef3cefe0')\"\n",
              "              title=\"Convert this dataframe to an interactive table.\"\n",
              "              style=\"display:none;\">\n",
              "        \n",
              "  <svg xmlns=\"http://www.w3.org/2000/svg\" height=\"24px\"viewBox=\"0 0 24 24\"\n",
              "       width=\"24px\">\n",
              "    <path d=\"M0 0h24v24H0V0z\" fill=\"none\"/>\n",
              "    <path d=\"M18.56 5.44l.94 2.06.94-2.06 2.06-.94-2.06-.94-.94-2.06-.94 2.06-2.06.94zm-11 1L8.5 8.5l.94-2.06 2.06-.94-2.06-.94L8.5 2.5l-.94 2.06-2.06.94zm10 10l.94 2.06.94-2.06 2.06-.94-2.06-.94-.94-2.06-.94 2.06-2.06.94z\"/><path d=\"M17.41 7.96l-1.37-1.37c-.4-.4-.92-.59-1.43-.59-.52 0-1.04.2-1.43.59L10.3 9.45l-7.72 7.72c-.78.78-.78 2.05 0 2.83L4 21.41c.39.39.9.59 1.41.59.51 0 1.02-.2 1.41-.59l7.78-7.78 2.81-2.81c.8-.78.8-2.07 0-2.86zM5.41 20L4 18.59l7.72-7.72 1.47 1.35L5.41 20z\"/>\n",
              "  </svg>\n",
              "      </button>\n",
              "      \n",
              "  <style>\n",
              "    .colab-df-container {\n",
              "      display:flex;\n",
              "      flex-wrap:wrap;\n",
              "      gap: 12px;\n",
              "    }\n",
              "\n",
              "    .colab-df-convert {\n",
              "      background-color: #E8F0FE;\n",
              "      border: none;\n",
              "      border-radius: 50%;\n",
              "      cursor: pointer;\n",
              "      display: none;\n",
              "      fill: #1967D2;\n",
              "      height: 32px;\n",
              "      padding: 0 0 0 0;\n",
              "      width: 32px;\n",
              "    }\n",
              "\n",
              "    .colab-df-convert:hover {\n",
              "      background-color: #E2EBFA;\n",
              "      box-shadow: 0px 1px 2px rgba(60, 64, 67, 0.3), 0px 1px 3px 1px rgba(60, 64, 67, 0.15);\n",
              "      fill: #174EA6;\n",
              "    }\n",
              "\n",
              "    [theme=dark] .colab-df-convert {\n",
              "      background-color: #3B4455;\n",
              "      fill: #D2E3FC;\n",
              "    }\n",
              "\n",
              "    [theme=dark] .colab-df-convert:hover {\n",
              "      background-color: #434B5C;\n",
              "      box-shadow: 0px 1px 3px 1px rgba(0, 0, 0, 0.15);\n",
              "      filter: drop-shadow(0px 1px 2px rgba(0, 0, 0, 0.3));\n",
              "      fill: #FFFFFF;\n",
              "    }\n",
              "  </style>\n",
              "\n",
              "      <script>\n",
              "        const buttonEl =\n",
              "          document.querySelector('#df-c8a6c716-3d78-46a0-8ac8-6b89ef3cefe0 button.colab-df-convert');\n",
              "        buttonEl.style.display =\n",
              "          google.colab.kernel.accessAllowed ? 'block' : 'none';\n",
              "\n",
              "        async function convertToInteractive(key) {\n",
              "          const element = document.querySelector('#df-c8a6c716-3d78-46a0-8ac8-6b89ef3cefe0');\n",
              "          const dataTable =\n",
              "            await google.colab.kernel.invokeFunction('convertToInteractive',\n",
              "                                                     [key], {});\n",
              "          if (!dataTable) return;\n",
              "\n",
              "          const docLinkHtml = 'Like what you see? Visit the ' +\n",
              "            '<a target=\"_blank\" href=https://colab.research.google.com/notebooks/data_table.ipynb>data table notebook</a>'\n",
              "            + ' to learn more about interactive tables.';\n",
              "          element.innerHTML = '';\n",
              "          dataTable['output_type'] = 'display_data';\n",
              "          await google.colab.output.renderOutput(dataTable, element);\n",
              "          const docLink = document.createElement('div');\n",
              "          docLink.innerHTML = docLinkHtml;\n",
              "          element.appendChild(docLink);\n",
              "        }\n",
              "      </script>\n",
              "    </div>\n",
              "  </div>\n",
              "  "
            ]
          },
          "metadata": {},
          "execution_count": 25
        }
      ]
    },
    {
      "cell_type": "code",
      "source": [
        "df2.columns"
      ],
      "metadata": {
        "colab": {
          "base_uri": "https://localhost:8080/"
        },
        "id": "pKY--Xi_AW9d",
        "outputId": "407a4cd3-4b1e-4e91-f97d-81fcea895e84"
      },
      "execution_count": null,
      "outputs": [
        {
          "output_type": "execute_result",
          "data": {
            "text/plain": [
              "Index(['team_abbreviation', 'pts', 'reb', 'ast', 'player_height',\n",
              "       'player_weight'],\n",
              "      dtype='object')"
            ]
          },
          "metadata": {},
          "execution_count": 26
        }
      ]
    },
    {
      "cell_type": "code",
      "source": [
        "# Меняем тип полей с текстового на число с плавающей точкой\n",
        "df2 = df2.astype({'player_height': np.float64, 'player_weight': np.float64, 'pts': np.float64, 'reb': np.float64, 'ast': np.float64 })"
      ],
      "metadata": {
        "id": "0dukvSTnAszP"
      },
      "execution_count": null,
      "outputs": []
    },
    {
      "cell_type": "code",
      "source": [
        "# Проверяем результат\n",
        "df2.info()"
      ],
      "metadata": {
        "colab": {
          "base_uri": "https://localhost:8080/"
        },
        "id": "GUo_zVl_BZ6o",
        "outputId": "ebd445c9-c3ea-4d1e-8316-5e05a540da10"
      },
      "execution_count": null,
      "outputs": [
        {
          "output_type": "stream",
          "name": "stdout",
          "text": [
            "<class 'pandas.core.frame.DataFrame'>\n",
            "RangeIndex: 452 entries, 0 to 451\n",
            "Data columns (total 6 columns):\n",
            " #   Column             Non-Null Count  Dtype  \n",
            "---  ------             --------------  -----  \n",
            " 0   team_abbreviation  452 non-null    object \n",
            " 1   pts                452 non-null    float64\n",
            " 2   reb                452 non-null    float64\n",
            " 3   ast                452 non-null    float64\n",
            " 4   player_height      452 non-null    float64\n",
            " 5   player_weight      452 non-null    float64\n",
            "dtypes: float64(5), object(1)\n",
            "memory usage: 21.3+ KB\n"
          ]
        }
      ]
    },
    {
      "cell_type": "markdown",
      "source": [
        "# Построение модели дерево решений вариант 1\n",
        "\n",
        "> Блок с отступами\n",
        "\n"
      ],
      "metadata": {
        "id": "dZzcGqvCV_OP"
      }
    },
    {
      "cell_type": "code",
      "source": [
        "# Группируем данные по названию команды, по остальным столбцам берем среднее значение каждой команды\n",
        "train_data= df2.groupby('team_abbreviation').mean()"
      ],
      "metadata": {
        "id": "deyxAR0-BkEN"
      },
      "execution_count": null,
      "outputs": []
    },
    {
      "cell_type": "code",
      "source": [
        "# Сбрасываем индекс с таблицы.\n",
        "train_data.reset_index(inplace=True)"
      ],
      "metadata": {
        "id": "47nD2vF1Bu5j"
      },
      "execution_count": null,
      "outputs": []
    },
    {
      "cell_type": "code",
      "source": [
        "# Разделем предикторы и целевые значения (в качестве целевых значений берем индекс строки)\n",
        "Y= np.array(train_data.index)\n",
        "X = train_data.drop(['team_abbreviation'], axis=1)"
      ],
      "metadata": {
        "id": "dApU0dl_CGgY"
      },
      "execution_count": null,
      "outputs": []
    },
    {
      "cell_type": "code",
      "source": [
        "X.describe()"
      ],
      "metadata": {
        "colab": {
          "base_uri": "https://localhost:8080/",
          "height": 300
        },
        "id": "txcHiPX3M3Cs",
        "outputId": "9d520148-c613-457c-accc-07d8c44116ec"
      },
      "execution_count": null,
      "outputs": [
        {
          "output_type": "execute_result",
          "data": {
            "text/plain": [
              "             pts        reb        ast  player_height  player_weight\n",
              "count  30.000000  30.000000  30.000000      30.000000      30.000000\n",
              "mean    8.242503   3.564686   1.775043     201.213148     101.636730\n",
              "std     0.705245   0.279750   0.171156       1.238058       2.346399\n",
              "min     6.668750   3.070588   1.441176     198.966667      97.629008\n",
              "25%     7.741458   3.345000   1.663854     200.194333      99.893378\n",
              "50%     8.286667   3.580000   1.773958     200.998667     101.231062\n",
              "75%     8.565848   3.735882   1.923214     202.241394     103.659947\n",
              "max     9.766667   4.133333   2.057143     203.369333     106.282275"
            ],
            "text/html": [
              "\n",
              "  <div id=\"df-202915e0-3fd2-489c-9df7-fd01d2f94a95\">\n",
              "    <div class=\"colab-df-container\">\n",
              "      <div>\n",
              "<style scoped>\n",
              "    .dataframe tbody tr th:only-of-type {\n",
              "        vertical-align: middle;\n",
              "    }\n",
              "\n",
              "    .dataframe tbody tr th {\n",
              "        vertical-align: top;\n",
              "    }\n",
              "\n",
              "    .dataframe thead th {\n",
              "        text-align: right;\n",
              "    }\n",
              "</style>\n",
              "<table border=\"1\" class=\"dataframe\">\n",
              "  <thead>\n",
              "    <tr style=\"text-align: right;\">\n",
              "      <th></th>\n",
              "      <th>pts</th>\n",
              "      <th>reb</th>\n",
              "      <th>ast</th>\n",
              "      <th>player_height</th>\n",
              "      <th>player_weight</th>\n",
              "    </tr>\n",
              "  </thead>\n",
              "  <tbody>\n",
              "    <tr>\n",
              "      <th>count</th>\n",
              "      <td>30.000000</td>\n",
              "      <td>30.000000</td>\n",
              "      <td>30.000000</td>\n",
              "      <td>30.000000</td>\n",
              "      <td>30.000000</td>\n",
              "    </tr>\n",
              "    <tr>\n",
              "      <th>mean</th>\n",
              "      <td>8.242503</td>\n",
              "      <td>3.564686</td>\n",
              "      <td>1.775043</td>\n",
              "      <td>201.213148</td>\n",
              "      <td>101.636730</td>\n",
              "    </tr>\n",
              "    <tr>\n",
              "      <th>std</th>\n",
              "      <td>0.705245</td>\n",
              "      <td>0.279750</td>\n",
              "      <td>0.171156</td>\n",
              "      <td>1.238058</td>\n",
              "      <td>2.346399</td>\n",
              "    </tr>\n",
              "    <tr>\n",
              "      <th>min</th>\n",
              "      <td>6.668750</td>\n",
              "      <td>3.070588</td>\n",
              "      <td>1.441176</td>\n",
              "      <td>198.966667</td>\n",
              "      <td>97.629008</td>\n",
              "    </tr>\n",
              "    <tr>\n",
              "      <th>25%</th>\n",
              "      <td>7.741458</td>\n",
              "      <td>3.345000</td>\n",
              "      <td>1.663854</td>\n",
              "      <td>200.194333</td>\n",
              "      <td>99.893378</td>\n",
              "    </tr>\n",
              "    <tr>\n",
              "      <th>50%</th>\n",
              "      <td>8.286667</td>\n",
              "      <td>3.580000</td>\n",
              "      <td>1.773958</td>\n",
              "      <td>200.998667</td>\n",
              "      <td>101.231062</td>\n",
              "    </tr>\n",
              "    <tr>\n",
              "      <th>75%</th>\n",
              "      <td>8.565848</td>\n",
              "      <td>3.735882</td>\n",
              "      <td>1.923214</td>\n",
              "      <td>202.241394</td>\n",
              "      <td>103.659947</td>\n",
              "    </tr>\n",
              "    <tr>\n",
              "      <th>max</th>\n",
              "      <td>9.766667</td>\n",
              "      <td>4.133333</td>\n",
              "      <td>2.057143</td>\n",
              "      <td>203.369333</td>\n",
              "      <td>106.282275</td>\n",
              "    </tr>\n",
              "  </tbody>\n",
              "</table>\n",
              "</div>\n",
              "      <button class=\"colab-df-convert\" onclick=\"convertToInteractive('df-202915e0-3fd2-489c-9df7-fd01d2f94a95')\"\n",
              "              title=\"Convert this dataframe to an interactive table.\"\n",
              "              style=\"display:none;\">\n",
              "        \n",
              "  <svg xmlns=\"http://www.w3.org/2000/svg\" height=\"24px\"viewBox=\"0 0 24 24\"\n",
              "       width=\"24px\">\n",
              "    <path d=\"M0 0h24v24H0V0z\" fill=\"none\"/>\n",
              "    <path d=\"M18.56 5.44l.94 2.06.94-2.06 2.06-.94-2.06-.94-.94-2.06-.94 2.06-2.06.94zm-11 1L8.5 8.5l.94-2.06 2.06-.94-2.06-.94L8.5 2.5l-.94 2.06-2.06.94zm10 10l.94 2.06.94-2.06 2.06-.94-2.06-.94-.94-2.06-.94 2.06-2.06.94z\"/><path d=\"M17.41 7.96l-1.37-1.37c-.4-.4-.92-.59-1.43-.59-.52 0-1.04.2-1.43.59L10.3 9.45l-7.72 7.72c-.78.78-.78 2.05 0 2.83L4 21.41c.39.39.9.59 1.41.59.51 0 1.02-.2 1.41-.59l7.78-7.78 2.81-2.81c.8-.78.8-2.07 0-2.86zM5.41 20L4 18.59l7.72-7.72 1.47 1.35L5.41 20z\"/>\n",
              "  </svg>\n",
              "      </button>\n",
              "      \n",
              "  <style>\n",
              "    .colab-df-container {\n",
              "      display:flex;\n",
              "      flex-wrap:wrap;\n",
              "      gap: 12px;\n",
              "    }\n",
              "\n",
              "    .colab-df-convert {\n",
              "      background-color: #E8F0FE;\n",
              "      border: none;\n",
              "      border-radius: 50%;\n",
              "      cursor: pointer;\n",
              "      display: none;\n",
              "      fill: #1967D2;\n",
              "      height: 32px;\n",
              "      padding: 0 0 0 0;\n",
              "      width: 32px;\n",
              "    }\n",
              "\n",
              "    .colab-df-convert:hover {\n",
              "      background-color: #E2EBFA;\n",
              "      box-shadow: 0px 1px 2px rgba(60, 64, 67, 0.3), 0px 1px 3px 1px rgba(60, 64, 67, 0.15);\n",
              "      fill: #174EA6;\n",
              "    }\n",
              "\n",
              "    [theme=dark] .colab-df-convert {\n",
              "      background-color: #3B4455;\n",
              "      fill: #D2E3FC;\n",
              "    }\n",
              "\n",
              "    [theme=dark] .colab-df-convert:hover {\n",
              "      background-color: #434B5C;\n",
              "      box-shadow: 0px 1px 3px 1px rgba(0, 0, 0, 0.15);\n",
              "      filter: drop-shadow(0px 1px 2px rgba(0, 0, 0, 0.3));\n",
              "      fill: #FFFFFF;\n",
              "    }\n",
              "  </style>\n",
              "\n",
              "      <script>\n",
              "        const buttonEl =\n",
              "          document.querySelector('#df-202915e0-3fd2-489c-9df7-fd01d2f94a95 button.colab-df-convert');\n",
              "        buttonEl.style.display =\n",
              "          google.colab.kernel.accessAllowed ? 'block' : 'none';\n",
              "\n",
              "        async function convertToInteractive(key) {\n",
              "          const element = document.querySelector('#df-202915e0-3fd2-489c-9df7-fd01d2f94a95');\n",
              "          const dataTable =\n",
              "            await google.colab.kernel.invokeFunction('convertToInteractive',\n",
              "                                                     [key], {});\n",
              "          if (!dataTable) return;\n",
              "\n",
              "          const docLinkHtml = 'Like what you see? Visit the ' +\n",
              "            '<a target=\"_blank\" href=https://colab.research.google.com/notebooks/data_table.ipynb>data table notebook</a>'\n",
              "            + ' to learn more about interactive tables.';\n",
              "          element.innerHTML = '';\n",
              "          dataTable['output_type'] = 'display_data';\n",
              "          await google.colab.output.renderOutput(dataTable, element);\n",
              "          const docLink = document.createElement('div');\n",
              "          docLink.innerHTML = docLinkHtml;\n",
              "          element.appendChild(docLink);\n",
              "        }\n",
              "      </script>\n",
              "    </div>\n",
              "  </div>\n",
              "  "
            ]
          },
          "metadata": {},
          "execution_count": 32
        }
      ]
    },
    {
      "cell_type": "markdown",
      "source": [
        "#  Так как данные столбцов предикторов имеют сильный разброс, то перед построением модели необходимо произвести нормализацию данных"
      ],
      "metadata": {
        "id": "vWliifQ_NJKT"
      }
    },
    {
      "cell_type": "code",
      "source": [
        "# Импортируем необходимую функцию\n",
        "from sklearn.preprocessing import StandardScaler"
      ],
      "metadata": {
        "id": "KRFNwA-7CNmG"
      },
      "execution_count": null,
      "outputs": []
    },
    {
      "cell_type": "code",
      "source": [
        "# Проводим нормализацию данных\n",
        "st_x = StandardScaler()\n",
        "x_standart=st_x.fit_transform(X)"
      ],
      "metadata": {
        "id": "fHBxlrXhI2Zr"
      },
      "execution_count": null,
      "outputs": []
    },
    {
      "cell_type": "markdown",
      "source": [
        "# Cтроим модель решающих деревьев"
      ],
      "metadata": {
        "id": "aIZWVIsnNy0h"
      }
    },
    {
      "cell_type": "code",
      "source": [
        "from sklearn.tree import DecisionTreeClassifier"
      ],
      "metadata": {
        "id": "Wi6wuJIZJrZj"
      },
      "execution_count": null,
      "outputs": []
    },
    {
      "cell_type": "code",
      "source": [
        "model_tree = DecisionTreeClassifier()\n",
        "model_tree.fit(x_standart, Y)\n",
        "print(f'Точность модели на тренировочных данных составила {model_tree.score(x_standart, Y)*100}')"
      ],
      "metadata": {
        "colab": {
          "base_uri": "https://localhost:8080/"
        },
        "id": "_GDueF5TKAgD",
        "outputId": "61359a9b-dad9-44af-fd3a-148617aae274"
      },
      "execution_count": null,
      "outputs": [
        {
          "output_type": "stream",
          "name": "stdout",
          "text": [
            "Точность модели на тренировочных данных составила 100.0\n"
          ]
        }
      ]
    },
    {
      "cell_type": "markdown",
      "source": [
        "# Построение модели дерево решений вариант 2"
      ],
      "metadata": {
        "id": "k5OLDHs7WK7c"
      }
    },
    {
      "cell_type": "code",
      "source": [
        "dict_team = dict(map(lambda x: x[::-1], enumerate(list(train_data['team_abbreviation']),1)))"
      ],
      "metadata": {
        "id": "VRnBIknVWgGU"
      },
      "execution_count": null,
      "outputs": []
    },
    {
      "cell_type": "code",
      "source": [
        "df2['team_cod']= df2['team_abbreviation'].map(dict_team)"
      ],
      "metadata": {
        "id": "vAg7IseqXBp4"
      },
      "execution_count": null,
      "outputs": []
    },
    {
      "cell_type": "code",
      "source": [
        "x_v2 = df2.drop(['team_abbreviation', 'team_cod'], axis=1)\n",
        "y_v2 = df2['team_cod']"
      ],
      "metadata": {
        "id": "k-VXo9MPYR6Y"
      },
      "execution_count": null,
      "outputs": []
    },
    {
      "cell_type": "code",
      "source": [
        "# Проводим нормализацию данных\n",
        "st_x = StandardScaler()\n",
        "x_norm=st_x.fit_transform(x_v2)"
      ],
      "metadata": {
        "id": "knKPw-3IZsug"
      },
      "execution_count": null,
      "outputs": []
    },
    {
      "cell_type": "code",
      "source": [
        "#Разделяем на выборки\n",
        "x_train_tree, x_test_tree, y_train_tree, y_test_tree = train_test_split(x_norm, y_v2, test_size= 0.3, random_state= 40)"
      ],
      "metadata": {
        "id": "nBG0fArcaVob"
      },
      "execution_count": null,
      "outputs": []
    },
    {
      "cell_type": "code",
      "source": [
        "#Тренируем модель\n",
        "model_tree_v2 =DecisionTreeClassifier()\n",
        "model_tree_v2.fit(x_train_tree, y_train_tree)\n",
        "print(f'Точность модели на тренировочных данных {model_tree_v2.score(x_train_tree, y_train_tree)*100}%')\n",
        "print(f'Точность модели на тестовой выборке {round(model_tree_v2.score(x_test_tree, y_test_tree)*100, 0)}%')"
      ],
      "metadata": {
        "colab": {
          "base_uri": "https://localhost:8080/"
        },
        "id": "7VXWIBhIa9S7",
        "outputId": "03a442ae-4c15-4520-807d-6453f48a57ec"
      },
      "execution_count": null,
      "outputs": [
        {
          "output_type": "stream",
          "name": "stdout",
          "text": [
            "Точность модели на тренировочных данных 100.0%\n",
            "Точность модели на тестовой выборке 4.0%\n"
          ]
        }
      ]
    },
    {
      "cell_type": "markdown",
      "source": [
        "# На основании столбца \"Среднее число за игру(pts) разделим всех игроков на 3 группы ( игроки с низким рейтингом (1)- если средний рейтинг на игру меньше 3, игроки со среднем рейтингом (2) - если средний рейтинг в диапозоне от 3 до   8 включительно и игроки с высоким рейтингом (3)- если средний рейтинг более 8    используя следующие метрики : среднее число подборов за игру(reb), среднее число голлевых пасов (ast),  Мера эффуктивности броска игрока, учитывающая штрафные броски(ts_pct), Процент бросков с игры товарищей по команде, которым игрок ассистировал, находясь на площадке(ast_pct), Процент доступных подборов в нападении, которые игрок захватил, находясь на площадке (oreb_pct), Процент доступных подборов в защите, которые игрок захватил находясь на площадке (dreb_pct)"
      ],
      "metadata": {
        "id": "3uFEvIrdrCoi"
      }
    },
    {
      "cell_type": "code",
      "source": [
        "# Импортируем необходимые данные из базы sql\n",
        "df3 = pd.read_sql(\"SELECT player_name, pts, reb, ast, oreb_pct, dreb_pct, ts_pct, ast_pct FROM sessons\", conn)"
      ],
      "metadata": {
        "id": "EvM9iTmBowP6"
      },
      "execution_count": null,
      "outputs": []
    },
    {
      "cell_type": "code",
      "source": [
        "df3.head()"
      ],
      "metadata": {
        "colab": {
          "base_uri": "https://localhost:8080/",
          "height": 206
        },
        "id": "W6WhUIagpewF",
        "outputId": "6a03b7c0-ba31-4cda-9092-3ab9f8367f8d"
      },
      "execution_count": null,
      "outputs": [
        {
          "output_type": "execute_result",
          "data": {
            "text/plain": [
              "         player_name  pts   reb  ast             oreb_pct  \\\n",
              "0      Dennis Rodman  5.7  16.1  3.1  0.18600000000000003   \n",
              "1  Dwayne Schintzius  2.3   1.5  0.3                0.078   \n",
              "2       Earl Cureton  0.8   1.0  0.4                0.105   \n",
              "3        Ed O'Bannon  3.7   2.3  0.6                 0.06   \n",
              "4        Ed Pinckney  2.4   2.4  0.2                0.109   \n",
              "\n",
              "              dreb_pct               ts_pct              ast_pct  \n",
              "0  0.32299999999999995                0.479                0.113  \n",
              "1                0.151                 0.43                0.048  \n",
              "2                0.102                0.376  0.14800000000000002  \n",
              "3                0.149  0.39899999999999997                0.077  \n",
              "4                0.179                0.611                 0.04  "
            ],
            "text/html": [
              "\n",
              "  <div id=\"df-36bf6d34-9a5b-45cb-bd2b-31ae71ac1102\">\n",
              "    <div class=\"colab-df-container\">\n",
              "      <div>\n",
              "<style scoped>\n",
              "    .dataframe tbody tr th:only-of-type {\n",
              "        vertical-align: middle;\n",
              "    }\n",
              "\n",
              "    .dataframe tbody tr th {\n",
              "        vertical-align: top;\n",
              "    }\n",
              "\n",
              "    .dataframe thead th {\n",
              "        text-align: right;\n",
              "    }\n",
              "</style>\n",
              "<table border=\"1\" class=\"dataframe\">\n",
              "  <thead>\n",
              "    <tr style=\"text-align: right;\">\n",
              "      <th></th>\n",
              "      <th>player_name</th>\n",
              "      <th>pts</th>\n",
              "      <th>reb</th>\n",
              "      <th>ast</th>\n",
              "      <th>oreb_pct</th>\n",
              "      <th>dreb_pct</th>\n",
              "      <th>ts_pct</th>\n",
              "      <th>ast_pct</th>\n",
              "    </tr>\n",
              "  </thead>\n",
              "  <tbody>\n",
              "    <tr>\n",
              "      <th>0</th>\n",
              "      <td>Dennis Rodman</td>\n",
              "      <td>5.7</td>\n",
              "      <td>16.1</td>\n",
              "      <td>3.1</td>\n",
              "      <td>0.18600000000000003</td>\n",
              "      <td>0.32299999999999995</td>\n",
              "      <td>0.479</td>\n",
              "      <td>0.113</td>\n",
              "    </tr>\n",
              "    <tr>\n",
              "      <th>1</th>\n",
              "      <td>Dwayne Schintzius</td>\n",
              "      <td>2.3</td>\n",
              "      <td>1.5</td>\n",
              "      <td>0.3</td>\n",
              "      <td>0.078</td>\n",
              "      <td>0.151</td>\n",
              "      <td>0.43</td>\n",
              "      <td>0.048</td>\n",
              "    </tr>\n",
              "    <tr>\n",
              "      <th>2</th>\n",
              "      <td>Earl Cureton</td>\n",
              "      <td>0.8</td>\n",
              "      <td>1.0</td>\n",
              "      <td>0.4</td>\n",
              "      <td>0.105</td>\n",
              "      <td>0.102</td>\n",
              "      <td>0.376</td>\n",
              "      <td>0.14800000000000002</td>\n",
              "    </tr>\n",
              "    <tr>\n",
              "      <th>3</th>\n",
              "      <td>Ed O'Bannon</td>\n",
              "      <td>3.7</td>\n",
              "      <td>2.3</td>\n",
              "      <td>0.6</td>\n",
              "      <td>0.06</td>\n",
              "      <td>0.149</td>\n",
              "      <td>0.39899999999999997</td>\n",
              "      <td>0.077</td>\n",
              "    </tr>\n",
              "    <tr>\n",
              "      <th>4</th>\n",
              "      <td>Ed Pinckney</td>\n",
              "      <td>2.4</td>\n",
              "      <td>2.4</td>\n",
              "      <td>0.2</td>\n",
              "      <td>0.109</td>\n",
              "      <td>0.179</td>\n",
              "      <td>0.611</td>\n",
              "      <td>0.04</td>\n",
              "    </tr>\n",
              "  </tbody>\n",
              "</table>\n",
              "</div>\n",
              "      <button class=\"colab-df-convert\" onclick=\"convertToInteractive('df-36bf6d34-9a5b-45cb-bd2b-31ae71ac1102')\"\n",
              "              title=\"Convert this dataframe to an interactive table.\"\n",
              "              style=\"display:none;\">\n",
              "        \n",
              "  <svg xmlns=\"http://www.w3.org/2000/svg\" height=\"24px\"viewBox=\"0 0 24 24\"\n",
              "       width=\"24px\">\n",
              "    <path d=\"M0 0h24v24H0V0z\" fill=\"none\"/>\n",
              "    <path d=\"M18.56 5.44l.94 2.06.94-2.06 2.06-.94-2.06-.94-.94-2.06-.94 2.06-2.06.94zm-11 1L8.5 8.5l.94-2.06 2.06-.94-2.06-.94L8.5 2.5l-.94 2.06-2.06.94zm10 10l.94 2.06.94-2.06 2.06-.94-2.06-.94-.94-2.06-.94 2.06-2.06.94z\"/><path d=\"M17.41 7.96l-1.37-1.37c-.4-.4-.92-.59-1.43-.59-.52 0-1.04.2-1.43.59L10.3 9.45l-7.72 7.72c-.78.78-.78 2.05 0 2.83L4 21.41c.39.39.9.59 1.41.59.51 0 1.02-.2 1.41-.59l7.78-7.78 2.81-2.81c.8-.78.8-2.07 0-2.86zM5.41 20L4 18.59l7.72-7.72 1.47 1.35L5.41 20z\"/>\n",
              "  </svg>\n",
              "      </button>\n",
              "      \n",
              "  <style>\n",
              "    .colab-df-container {\n",
              "      display:flex;\n",
              "      flex-wrap:wrap;\n",
              "      gap: 12px;\n",
              "    }\n",
              "\n",
              "    .colab-df-convert {\n",
              "      background-color: #E8F0FE;\n",
              "      border: none;\n",
              "      border-radius: 50%;\n",
              "      cursor: pointer;\n",
              "      display: none;\n",
              "      fill: #1967D2;\n",
              "      height: 32px;\n",
              "      padding: 0 0 0 0;\n",
              "      width: 32px;\n",
              "    }\n",
              "\n",
              "    .colab-df-convert:hover {\n",
              "      background-color: #E2EBFA;\n",
              "      box-shadow: 0px 1px 2px rgba(60, 64, 67, 0.3), 0px 1px 3px 1px rgba(60, 64, 67, 0.15);\n",
              "      fill: #174EA6;\n",
              "    }\n",
              "\n",
              "    [theme=dark] .colab-df-convert {\n",
              "      background-color: #3B4455;\n",
              "      fill: #D2E3FC;\n",
              "    }\n",
              "\n",
              "    [theme=dark] .colab-df-convert:hover {\n",
              "      background-color: #434B5C;\n",
              "      box-shadow: 0px 1px 3px 1px rgba(0, 0, 0, 0.15);\n",
              "      filter: drop-shadow(0px 1px 2px rgba(0, 0, 0, 0.3));\n",
              "      fill: #FFFFFF;\n",
              "    }\n",
              "  </style>\n",
              "\n",
              "      <script>\n",
              "        const buttonEl =\n",
              "          document.querySelector('#df-36bf6d34-9a5b-45cb-bd2b-31ae71ac1102 button.colab-df-convert');\n",
              "        buttonEl.style.display =\n",
              "          google.colab.kernel.accessAllowed ? 'block' : 'none';\n",
              "\n",
              "        async function convertToInteractive(key) {\n",
              "          const element = document.querySelector('#df-36bf6d34-9a5b-45cb-bd2b-31ae71ac1102');\n",
              "          const dataTable =\n",
              "            await google.colab.kernel.invokeFunction('convertToInteractive',\n",
              "                                                     [key], {});\n",
              "          if (!dataTable) return;\n",
              "\n",
              "          const docLinkHtml = 'Like what you see? Visit the ' +\n",
              "            '<a target=\"_blank\" href=https://colab.research.google.com/notebooks/data_table.ipynb>data table notebook</a>'\n",
              "            + ' to learn more about interactive tables.';\n",
              "          element.innerHTML = '';\n",
              "          dataTable['output_type'] = 'display_data';\n",
              "          await google.colab.output.renderOutput(dataTable, element);\n",
              "          const docLink = document.createElement('div');\n",
              "          docLink.innerHTML = docLinkHtml;\n",
              "          element.appendChild(docLink);\n",
              "        }\n",
              "      </script>\n",
              "    </div>\n",
              "  </div>\n",
              "  "
            ]
          },
          "metadata": {},
          "execution_count": 44
        }
      ]
    },
    {
      "cell_type": "code",
      "source": [
        "df3.columns"
      ],
      "metadata": {
        "colab": {
          "base_uri": "https://localhost:8080/"
        },
        "id": "eRdrDVhSwPXZ",
        "outputId": "097b7019-2d64-4bb9-8f0b-7b6653633d24"
      },
      "execution_count": null,
      "outputs": [
        {
          "output_type": "execute_result",
          "data": {
            "text/plain": [
              "Index(['player_name', 'pts', 'reb', 'ast', 'oreb_pct', 'dreb_pct', 'ts_pct',\n",
              "       'ast_pct'],\n",
              "      dtype='object')"
            ]
          },
          "metadata": {},
          "execution_count": 45
        }
      ]
    },
    {
      "cell_type": "code",
      "source": [
        "# Меняем тип полей с текстового на число с плавающей точкой\n",
        "df3 = df3.astype({'oreb_pct': np.float64, 'dreb_pct': np.float64, 'pts': np.float64, 'reb': np.float64, 'ast': np.float64, 'ts_pct': np.float64, 'ast_pct': np.float64 })"
      ],
      "metadata": {
        "id": "T2Pt9B1Jo8yV"
      },
      "execution_count": null,
      "outputs": []
    },
    {
      "cell_type": "code",
      "source": [
        "df3.info()"
      ],
      "metadata": {
        "colab": {
          "base_uri": "https://localhost:8080/"
        },
        "id": "xBvEgeDrxIR7",
        "outputId": "c1fb1513-15a8-4523-db2e-c5d7dcc2476d"
      },
      "execution_count": null,
      "outputs": [
        {
          "output_type": "stream",
          "name": "stdout",
          "text": [
            "<class 'pandas.core.frame.DataFrame'>\n",
            "RangeIndex: 12305 entries, 0 to 12304\n",
            "Data columns (total 8 columns):\n",
            " #   Column       Non-Null Count  Dtype  \n",
            "---  ------       --------------  -----  \n",
            " 0   player_name  12305 non-null  object \n",
            " 1   pts          12305 non-null  float64\n",
            " 2   reb          12305 non-null  float64\n",
            " 3   ast          12305 non-null  float64\n",
            " 4   oreb_pct     12305 non-null  float64\n",
            " 5   dreb_pct     12305 non-null  float64\n",
            " 6   ts_pct       12305 non-null  float64\n",
            " 7   ast_pct      12305 non-null  float64\n",
            "dtypes: float64(7), object(1)\n",
            "memory usage: 769.2+ KB\n"
          ]
        }
      ]
    },
    {
      "cell_type": "code",
      "source": [
        "# Групперуем данные по игрокам и по остальным столбцам выводим среднее значение\n",
        "dt = df3.groupby('player_name').mean()"
      ],
      "metadata": {
        "id": "u7MKjp3MxWly"
      },
      "execution_count": null,
      "outputs": []
    },
    {
      "cell_type": "code",
      "source": [
        "# Сбрасываем индекс с таблицы.\n",
        "dt.reset_index(inplace=True)"
      ],
      "metadata": {
        "id": "gA-YLLv10Dw1"
      },
      "execution_count": null,
      "outputs": []
    },
    {
      "cell_type": "code",
      "source": [
        "# Создаем функцию для классификации данных\n",
        "def classifier_dt(row):\n",
        "  if row['pts'] <3:\n",
        "    res = 1\n",
        "  elif 3 <= row['pts'] <= 8:\n",
        "    res= 2\n",
        "  else:\n",
        "    res=3\n",
        "  return res"
      ],
      "metadata": {
        "id": "-Yr8TglIBaAC"
      },
      "execution_count": null,
      "outputs": []
    },
    {
      "cell_type": "code",
      "source": [
        "# Добавляем новый столбец в датасет\n",
        "dt['rate_class'] = dt.apply(classifier_dt, axis=1)"
      ],
      "metadata": {
        "id": "YPXrzeelD_LE"
      },
      "execution_count": null,
      "outputs": []
    },
    {
      "cell_type": "code",
      "source": [
        "dt"
      ],
      "metadata": {
        "colab": {
          "base_uri": "https://localhost:8080/",
          "height": 424
        },
        "id": "Vx_Nyp_89XBx",
        "outputId": "44d6cdbd-f347-4be9-99de-dece5bd29b9a"
      },
      "execution_count": null,
      "outputs": [
        {
          "output_type": "execute_result",
          "data": {
            "text/plain": [
              "             player_name        pts       reb       ast  oreb_pct  dreb_pct  \\\n",
              "0             A.C. Green   5.780000  6.060000  0.860000  0.093000  0.186400   \n",
              "1          A.J. Bramlett   1.000000  2.800000  0.000000  0.158000  0.208000   \n",
              "2            A.J. Guyton   3.800000  0.700000  1.566667  0.013333  0.040000   \n",
              "3             AJ Hammons   2.200000  1.600000  0.200000  0.049000  0.199000   \n",
              "4               AJ Price   5.350000  1.333333  2.000000  0.017667  0.090833   \n",
              "...                  ...        ...       ...       ...       ...       ...   \n",
              "2458     Zion Williamson  24.750000  6.750000  2.900000  0.086500  0.122500   \n",
              "2459        Zoran Dragic   1.800000  0.500000  0.300000  0.072000  0.045000   \n",
              "2460      Zoran Planinic   3.833333  1.333333  1.100000  0.036000  0.118333   \n",
              "2461  Zydrunas Ilgauskas  12.938462  7.338462  1.092308  0.124538  0.191000   \n",
              "2462      Zylan Cheatham   1.500000  1.150000  0.400000  0.031000  0.064000   \n",
              "\n",
              "        ts_pct   ast_pct  rate_class  \n",
              "0     0.486800  0.054000           2  \n",
              "1     0.190000  0.000000           1  \n",
              "2     0.324000  0.282000           2  \n",
              "3     0.472000  0.038000           1  \n",
              "4     0.476500  0.248833           2  \n",
              "...        ...       ...         ...  \n",
              "2458  0.632500  0.153500           3  \n",
              "2459  0.435000  0.116000           1  \n",
              "2460  0.492000  0.212667           2  \n",
              "2461  0.531308  0.069385           3  \n",
              "2462  0.333500  0.047000           1  \n",
              "\n",
              "[2463 rows x 9 columns]"
            ],
            "text/html": [
              "\n",
              "  <div id=\"df-764ce8f1-1521-4035-b630-0986206fa630\">\n",
              "    <div class=\"colab-df-container\">\n",
              "      <div>\n",
              "<style scoped>\n",
              "    .dataframe tbody tr th:only-of-type {\n",
              "        vertical-align: middle;\n",
              "    }\n",
              "\n",
              "    .dataframe tbody tr th {\n",
              "        vertical-align: top;\n",
              "    }\n",
              "\n",
              "    .dataframe thead th {\n",
              "        text-align: right;\n",
              "    }\n",
              "</style>\n",
              "<table border=\"1\" class=\"dataframe\">\n",
              "  <thead>\n",
              "    <tr style=\"text-align: right;\">\n",
              "      <th></th>\n",
              "      <th>player_name</th>\n",
              "      <th>pts</th>\n",
              "      <th>reb</th>\n",
              "      <th>ast</th>\n",
              "      <th>oreb_pct</th>\n",
              "      <th>dreb_pct</th>\n",
              "      <th>ts_pct</th>\n",
              "      <th>ast_pct</th>\n",
              "      <th>rate_class</th>\n",
              "    </tr>\n",
              "  </thead>\n",
              "  <tbody>\n",
              "    <tr>\n",
              "      <th>0</th>\n",
              "      <td>A.C. Green</td>\n",
              "      <td>5.780000</td>\n",
              "      <td>6.060000</td>\n",
              "      <td>0.860000</td>\n",
              "      <td>0.093000</td>\n",
              "      <td>0.186400</td>\n",
              "      <td>0.486800</td>\n",
              "      <td>0.054000</td>\n",
              "      <td>2</td>\n",
              "    </tr>\n",
              "    <tr>\n",
              "      <th>1</th>\n",
              "      <td>A.J. Bramlett</td>\n",
              "      <td>1.000000</td>\n",
              "      <td>2.800000</td>\n",
              "      <td>0.000000</td>\n",
              "      <td>0.158000</td>\n",
              "      <td>0.208000</td>\n",
              "      <td>0.190000</td>\n",
              "      <td>0.000000</td>\n",
              "      <td>1</td>\n",
              "    </tr>\n",
              "    <tr>\n",
              "      <th>2</th>\n",
              "      <td>A.J. Guyton</td>\n",
              "      <td>3.800000</td>\n",
              "      <td>0.700000</td>\n",
              "      <td>1.566667</td>\n",
              "      <td>0.013333</td>\n",
              "      <td>0.040000</td>\n",
              "      <td>0.324000</td>\n",
              "      <td>0.282000</td>\n",
              "      <td>2</td>\n",
              "    </tr>\n",
              "    <tr>\n",
              "      <th>3</th>\n",
              "      <td>AJ Hammons</td>\n",
              "      <td>2.200000</td>\n",
              "      <td>1.600000</td>\n",
              "      <td>0.200000</td>\n",
              "      <td>0.049000</td>\n",
              "      <td>0.199000</td>\n",
              "      <td>0.472000</td>\n",
              "      <td>0.038000</td>\n",
              "      <td>1</td>\n",
              "    </tr>\n",
              "    <tr>\n",
              "      <th>4</th>\n",
              "      <td>AJ Price</td>\n",
              "      <td>5.350000</td>\n",
              "      <td>1.333333</td>\n",
              "      <td>2.000000</td>\n",
              "      <td>0.017667</td>\n",
              "      <td>0.090833</td>\n",
              "      <td>0.476500</td>\n",
              "      <td>0.248833</td>\n",
              "      <td>2</td>\n",
              "    </tr>\n",
              "    <tr>\n",
              "      <th>...</th>\n",
              "      <td>...</td>\n",
              "      <td>...</td>\n",
              "      <td>...</td>\n",
              "      <td>...</td>\n",
              "      <td>...</td>\n",
              "      <td>...</td>\n",
              "      <td>...</td>\n",
              "      <td>...</td>\n",
              "      <td>...</td>\n",
              "    </tr>\n",
              "    <tr>\n",
              "      <th>2458</th>\n",
              "      <td>Zion Williamson</td>\n",
              "      <td>24.750000</td>\n",
              "      <td>6.750000</td>\n",
              "      <td>2.900000</td>\n",
              "      <td>0.086500</td>\n",
              "      <td>0.122500</td>\n",
              "      <td>0.632500</td>\n",
              "      <td>0.153500</td>\n",
              "      <td>3</td>\n",
              "    </tr>\n",
              "    <tr>\n",
              "      <th>2459</th>\n",
              "      <td>Zoran Dragic</td>\n",
              "      <td>1.800000</td>\n",
              "      <td>0.500000</td>\n",
              "      <td>0.300000</td>\n",
              "      <td>0.072000</td>\n",
              "      <td>0.045000</td>\n",
              "      <td>0.435000</td>\n",
              "      <td>0.116000</td>\n",
              "      <td>1</td>\n",
              "    </tr>\n",
              "    <tr>\n",
              "      <th>2460</th>\n",
              "      <td>Zoran Planinic</td>\n",
              "      <td>3.833333</td>\n",
              "      <td>1.333333</td>\n",
              "      <td>1.100000</td>\n",
              "      <td>0.036000</td>\n",
              "      <td>0.118333</td>\n",
              "      <td>0.492000</td>\n",
              "      <td>0.212667</td>\n",
              "      <td>2</td>\n",
              "    </tr>\n",
              "    <tr>\n",
              "      <th>2461</th>\n",
              "      <td>Zydrunas Ilgauskas</td>\n",
              "      <td>12.938462</td>\n",
              "      <td>7.338462</td>\n",
              "      <td>1.092308</td>\n",
              "      <td>0.124538</td>\n",
              "      <td>0.191000</td>\n",
              "      <td>0.531308</td>\n",
              "      <td>0.069385</td>\n",
              "      <td>3</td>\n",
              "    </tr>\n",
              "    <tr>\n",
              "      <th>2462</th>\n",
              "      <td>Zylan Cheatham</td>\n",
              "      <td>1.500000</td>\n",
              "      <td>1.150000</td>\n",
              "      <td>0.400000</td>\n",
              "      <td>0.031000</td>\n",
              "      <td>0.064000</td>\n",
              "      <td>0.333500</td>\n",
              "      <td>0.047000</td>\n",
              "      <td>1</td>\n",
              "    </tr>\n",
              "  </tbody>\n",
              "</table>\n",
              "<p>2463 rows × 9 columns</p>\n",
              "</div>\n",
              "      <button class=\"colab-df-convert\" onclick=\"convertToInteractive('df-764ce8f1-1521-4035-b630-0986206fa630')\"\n",
              "              title=\"Convert this dataframe to an interactive table.\"\n",
              "              style=\"display:none;\">\n",
              "        \n",
              "  <svg xmlns=\"http://www.w3.org/2000/svg\" height=\"24px\"viewBox=\"0 0 24 24\"\n",
              "       width=\"24px\">\n",
              "    <path d=\"M0 0h24v24H0V0z\" fill=\"none\"/>\n",
              "    <path d=\"M18.56 5.44l.94 2.06.94-2.06 2.06-.94-2.06-.94-.94-2.06-.94 2.06-2.06.94zm-11 1L8.5 8.5l.94-2.06 2.06-.94-2.06-.94L8.5 2.5l-.94 2.06-2.06.94zm10 10l.94 2.06.94-2.06 2.06-.94-2.06-.94-.94-2.06-.94 2.06-2.06.94z\"/><path d=\"M17.41 7.96l-1.37-1.37c-.4-.4-.92-.59-1.43-.59-.52 0-1.04.2-1.43.59L10.3 9.45l-7.72 7.72c-.78.78-.78 2.05 0 2.83L4 21.41c.39.39.9.59 1.41.59.51 0 1.02-.2 1.41-.59l7.78-7.78 2.81-2.81c.8-.78.8-2.07 0-2.86zM5.41 20L4 18.59l7.72-7.72 1.47 1.35L5.41 20z\"/>\n",
              "  </svg>\n",
              "      </button>\n",
              "      \n",
              "  <style>\n",
              "    .colab-df-container {\n",
              "      display:flex;\n",
              "      flex-wrap:wrap;\n",
              "      gap: 12px;\n",
              "    }\n",
              "\n",
              "    .colab-df-convert {\n",
              "      background-color: #E8F0FE;\n",
              "      border: none;\n",
              "      border-radius: 50%;\n",
              "      cursor: pointer;\n",
              "      display: none;\n",
              "      fill: #1967D2;\n",
              "      height: 32px;\n",
              "      padding: 0 0 0 0;\n",
              "      width: 32px;\n",
              "    }\n",
              "\n",
              "    .colab-df-convert:hover {\n",
              "      background-color: #E2EBFA;\n",
              "      box-shadow: 0px 1px 2px rgba(60, 64, 67, 0.3), 0px 1px 3px 1px rgba(60, 64, 67, 0.15);\n",
              "      fill: #174EA6;\n",
              "    }\n",
              "\n",
              "    [theme=dark] .colab-df-convert {\n",
              "      background-color: #3B4455;\n",
              "      fill: #D2E3FC;\n",
              "    }\n",
              "\n",
              "    [theme=dark] .colab-df-convert:hover {\n",
              "      background-color: #434B5C;\n",
              "      box-shadow: 0px 1px 3px 1px rgba(0, 0, 0, 0.15);\n",
              "      filter: drop-shadow(0px 1px 2px rgba(0, 0, 0, 0.3));\n",
              "      fill: #FFFFFF;\n",
              "    }\n",
              "  </style>\n",
              "\n",
              "      <script>\n",
              "        const buttonEl =\n",
              "          document.querySelector('#df-764ce8f1-1521-4035-b630-0986206fa630 button.colab-df-convert');\n",
              "        buttonEl.style.display =\n",
              "          google.colab.kernel.accessAllowed ? 'block' : 'none';\n",
              "\n",
              "        async function convertToInteractive(key) {\n",
              "          const element = document.querySelector('#df-764ce8f1-1521-4035-b630-0986206fa630');\n",
              "          const dataTable =\n",
              "            await google.colab.kernel.invokeFunction('convertToInteractive',\n",
              "                                                     [key], {});\n",
              "          if (!dataTable) return;\n",
              "\n",
              "          const docLinkHtml = 'Like what you see? Visit the ' +\n",
              "            '<a target=\"_blank\" href=https://colab.research.google.com/notebooks/data_table.ipynb>data table notebook</a>'\n",
              "            + ' to learn more about interactive tables.';\n",
              "          element.innerHTML = '';\n",
              "          dataTable['output_type'] = 'display_data';\n",
              "          await google.colab.output.renderOutput(dataTable, element);\n",
              "          const docLink = document.createElement('div');\n",
              "          docLink.innerHTML = docLinkHtml;\n",
              "          element.appendChild(docLink);\n",
              "        }\n",
              "      </script>\n",
              "    </div>\n",
              "  </div>\n",
              "  "
            ]
          },
          "metadata": {},
          "execution_count": 52
        }
      ]
    },
    {
      "cell_type": "code",
      "source": [
        "# Разделяем выборку на целевые значение и данные на которых будет строится модель\n",
        "target = dt['rate_class']\n",
        "x = dt.drop(['pts','player_name', 'rate_class'], axis=1)"
      ],
      "metadata": {
        "id": "N1KMjtNbyHWs"
      },
      "execution_count": null,
      "outputs": []
    },
    {
      "cell_type": "code",
      "source": [
        "# Нормализуем данные переменной x\n",
        "from sklearn.preprocessing import MinMaxScaler\n",
        "\n",
        "n_sc= MinMaxScaler()\n",
        "x_norma = n_sc.fit_transform(x)"
      ],
      "metadata": {
        "id": "-AEfh-8HzPV3"
      },
      "execution_count": null,
      "outputs": []
    },
    {
      "cell_type": "code",
      "source": [
        "# Разделяем выборки на тренировочную и тестовую выборки\n",
        "X_train, X_test, Y_train, Y_test = train_test_split(x_norma,  target, test_size= 0.3, random_state=50)"
      ],
      "metadata": {
        "id": "GgqrbOaX1LVs"
      },
      "execution_count": null,
      "outputs": []
    },
    {
      "cell_type": "code",
      "source": [
        "# C помощью GridSearchCV подбираем лучшие параметры для модели дерева решений\n",
        "parrams_tree = {'criterion': [\"gini\", \"entropy\", \"log_loss\"], 'min_samples_split':[2, 3, 4, 5, 6, 7, 8, 9, 10], 'min_samples_leaf': [1, 2, 4, 5, 6, 7, 8, 9, 10]}\n",
        "greed_tree =GridSearchCV(DecisionTreeClassifier(), parrams_tree, refit=True, verbose=4)\n",
        "greed_tree.fit(X_train, Y_train)\n",
        "print(f'Лучшие параметры для модели {greed_tree.best_params_}')"
      ],
      "metadata": {
        "id": "G-Ks8Xem2Rho"
      },
      "execution_count": null,
      "outputs": []
    },
    {
      "cell_type": "code",
      "source": [
        "# Обучем модель на лучших параметрах\n",
        "best_model_tree = DecisionTreeClassifier(criterion='log_loss', min_samples_leaf= 9, min_samples_split=3)\n",
        "best_model_tree.fit(X_train, Y_train)\n",
        "print(f'Точность модели дерева решений на тестовых данных составила {round(best_model_tree.score(X_test, Y_test)*100, 0)}%')"
      ],
      "metadata": {
        "colab": {
          "base_uri": "https://localhost:8080/"
        },
        "id": "7i5AOMwxJJfw",
        "outputId": "e478c291-0400-4f8f-8e7c-1fa724d14de3"
      },
      "execution_count": null,
      "outputs": [
        {
          "output_type": "stream",
          "name": "stdout",
          "text": [
            "Точность модели дерева решений на тестовых данных составила 79.0%\n"
          ]
        }
      ]
    },
    {
      "cell_type": "code",
      "source": [
        "from sklearn.metrics._plot.confusion_matrix import confusion_matrix\n",
        "import seaborn as sns\n",
        "# Построим матрицу ошибок\n",
        "y_predict_tree = best_model_tree.predict(X_test)\n",
        "import seaborn as sns\n",
        "cm= confusion_matrix(Y_test, y_predict_tree)\n",
        "sns.heatmap(cm, annot=True, fmt='.0f', cmap='brg_r')\n",
        "plt.xlabel('Предсказанные классы')\n",
        "plt.ylabel('Верные классы')"
      ],
      "metadata": {
        "id": "V8kVeED5KvJu",
        "colab": {
          "base_uri": "https://localhost:8080/",
          "height": 466
        },
        "outputId": "8d37dab5-e91e-45b4-f83a-5f552bec22f7"
      },
      "execution_count": null,
      "outputs": [
        {
          "output_type": "execute_result",
          "data": {
            "text/plain": [
              "Text(50.722222222222214, 0.5, 'Верные классы')"
            ]
          },
          "metadata": {},
          "execution_count": 60
        },
        {
          "output_type": "display_data",
          "data": {
            "text/plain": [
              "<Figure size 640x480 with 2 Axes>"
            ],
            "image/png": "[encoded data removed]"
          },
          "metadata": {}
        }
      ]
    }
  ],
  "metadata": {
    "colab": {
      "provenance": []
    },
    "kernelspec": {
      "display_name": "Python 3",
      "name": "python3"
    },
    "language_info": {
      "name": "python"
    }
  },
  "nbformat": 4,
  "nbformat_minor": 0
}